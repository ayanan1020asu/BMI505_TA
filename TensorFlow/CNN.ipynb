{
 "cells": [
  {
   "cell_type": "markdown",
   "metadata": {},
   "source": [
    "# <center><h1>Convolutional Neural Networks (CNN) for Image Classification</h1></center>\n",
    "\n",
    "<center><img src=\"../Images/SampleCNN.png\" alt=\"CNN Architecture\" /></center>\n",
    "\n",
    "## Overview\n",
    "CNNs are specialized neural networks designed for processing grid-like data, particularly images. They use convolution operations to automatically learn spatial hierarchies of features from input data.\n",
    "\n",
    "### Key Characteristics\n",
    "- Uses convolution operations to detect features\n",
    "- Maintains spatial relationships in data\n",
    "- Parameter sharing reduces model complexity\n",
    "- Translation invariant (can detect features anywhere in image)\n",
    "\n",
    "### Process Flow\n",
    "1. Input image is processed through convolutional layers\n",
    "2. Each layer detects increasingly complex features\n",
    "3. Pooling layers reduce spatial dimensions\n",
    "4. Final dense layers perform classification\n",
    "5. Output predicts image class probabilities\n",
    "\n",
    "## Helpful Links\n",
    "- [Working with CNNs](https://www.tensorflow.org/tutorials/images/cnn)\n",
    "- [Image Classification](https://www.tensorflow.org/tutorials/images/classification)\n",
    "\n",
    "## Implementation Approaches\n",
    "We will explore three implementations with increasing complexity:\n",
    "\n",
    "1. **Basic CNN Model**\n",
    "   - Few convolutional layers\n",
    "   - Simple dense output layer\n",
    "   - Basic configuration\n",
    "   \n",
    "2. **Complex CNN Model**\n",
    "   - Multiple convolutional layers\n",
    "   - Batch normalization\n",
    "   - Dropout for regularization\n",
    "   \n",
    "3. **Testing Multiple Models**\n",
    "   - Functions to build and train models\n",
    "   - Functions to evaluate models\n",
    "   - Compare performance of different models\n",
    "   - Visualize results\n",
    "\n",
    "## Implementation Steps\n",
    "1. **Data Evaluation**\n",
    "   - Analyze image characteristics\n",
    "   - Check class distribution\n",
    "   - Examine sample images\n",
    "   \n",
    "2. **Dataset Definition**\n",
    "   - Load and preprocess images\n",
    "   - Split into training and testing sets\n",
    "   - Apply data augmentation\n",
    "\n",
    "3. **Model Architecture**\n",
    "   - Define convolutional layers\n",
    "   - Add pooling layers\n",
    "   - Configure dense layers\n",
    "\n",
    "4. **Model Training**\n",
    "   - Compile with appropriate loss function\n",
    "   - Train with selected optimizer\n",
    "   - Monitor validation metrics\n",
    "\n",
    "5. **Model Evaluation**\n",
    "   - Calculate classification accuracy\n",
    "   - Generate confusion matrix\n",
    "   - Analyze misclassifications\n",
    "   - Visualize feature maps\n",
    "\n",
    "---\n",
    "\n",
    "In this notebook, we'll build three implementations of CNN models to classify images from the [MedMNIST dataset](https://medmnist.com/). The MedMNIST dataset is a collection of 18 datasets across 10 different imaging modalities. It is possible to build a multi-modal model that classifies images no matter the modality, but for this notebook, we will focus on a single modality. For this example, we will use the [Chest X-ray](https://medmnist.com/datasets?tab=view&path=chest_xray) dataset. It contains 112,120 images of 14 multi-label classes. Multi-label classification is a type of classification where each image can belong to multiple classes. For example, an image of a patient with a chest infection may be classified as having both pneumonia and influenza. Multi-label classification leads to some more complex details in the dataset design and model architecture.\n",
    "\n",
    "## 1. Data Evaluation\n",
    "\n",
    "\n",
    "The releasers of MedMNIST have provided a library for downloading and loading the data. In the following code we will download the data using the recommended library and examine the resulting dataset."
   ]
  },
  {
   "cell_type": "code",
   "execution_count": 1,
   "metadata": {},
   "outputs": [
    {
     "name": "stdout",
     "output_type": "stream",
     "text": [
      "Train dataset size: 78468\n",
      "Test dataset size: 22433\n",
      "Validation dataset size: 11219\n",
      "type(train_dataset): <class 'medmnist.dataset.ChestMNIST'>\n",
      "train_dataset.imgs[0]: [[ 61   9  13  12  12  12  13  19  31  45  70 103 123 143 162 162 162 143\n",
      "  117  97  64  40  21  13  11  13  21  22]\n",
      " [ 54   7  10  12  20  34  48  62  74  83  92 116 131 145 163 162 164 148\n",
      "  131 115  93  80  65  44  24  21  29  34]\n",
      " [ 64  23  46  59  72  87  98 105 105  95  87 103 126 147 166 161 166 152\n",
      "  128 107  90  91  97  86  66  45  27  15]\n",
      " [110  66 106 115 120 128 130 131 100  67  62  67  83 117 158 156 165 134\n",
      "   87  69  65  64  94 114 109  93  70  38]\n",
      " [144  92 124 148 152 141 132 115  84  69  63  57  68 101 143 153 159 104\n",
      "   66  57  60  60  82 125 133 128 114  93]\n",
      " [163 113 149 171 162 148 132  80  59  63  68  65  73 115 142 155 138  82\n",
      "   67  67  70  70  78 102 133 137 144 131]\n",
      " [173 128 158 177 164 153 118  63  51  48  58  71  84 134 155 163 128  82\n",
      "   70  66  54  52  63  90 140 148 163 167]\n",
      " [183 140 158 174 167 156 106  59  43  36  38  55  75 139 166 170 143  99\n",
      "   60  50  40  46  63  89 145 153 167 178]\n",
      " [189 139 147 165 165 155  96  49  41  38  38  51  78 144 170 169 148 105\n",
      "   69  48  40  46  58  89 151 160 175 178]\n",
      " [184 130 142 155 160 152  85  49  40  36  37  45  76 149 172 170 147 104\n",
      "   76  48  42  51  65  91 155 165 174 163]\n",
      " [179 128 142 151 155 150  81  42  35  36  43  50  90 157 176 177 149 107\n",
      "   77  52  42  47  65 101 159 166 162 150]\n",
      " [175 121 135 147 152 148  72  43  43  44  45  66 111 168 181 184 159 119\n",
      "   71  52  50  55  65 105 164 163 156 147]\n",
      " [164 104 119 142 152 143  73  48  44  44  50  74 114 169 181 187 164 129\n",
      "   89  55  50  59  71 113 171 166 159 144]\n",
      " [149  87 107 134 157 140  74  48  47  52  68  77 112 173 186 191 171 149\n",
      "  131  85  56  53  64 113 178 173 163 135]\n",
      " [129  54  83 111 155 133  73  56  56  62  76  80 115 177 190 195 175 157\n",
      "  148 126  84  61  67 104 181 179 166 130]\n",
      " [118  36  63  89 150 125  79  67  67  71  81  86 125 182 194 200 182 168\n",
      "  165 154 129  91  73 101 179 184 170 137]\n",
      " [108  29  56 100 157 127  86  76  77  84  87  92 135 186 197 205 188 174\n",
      "  171 163 151 123  87  98 173 191 176 146]\n",
      " [ 95  19  56 120 170 128  96 103 110 109 104 115 149 195 204 210 193 177\n",
      "  171 162 151 130 108 105 163 195 182 154]\n",
      " [ 77  10  54 141 178 130 133 148 153 158 158 157 169 200 208 213 195 177\n",
      "  172 160 145 131 118 111 150 198 187 162]\n",
      " [ 56  10  80 164 182 149 160 165 173 181 185 184 187 207 213 216 200 184\n",
      "  182 177 168 163 149 133 144 195 192 170]\n",
      " [ 50  28 122 173 185 166 172 181 189 195 198 200 207 218 220 222 213 204\n",
      "  204 202 199 195 185 173 158 190 194 175]\n",
      " [ 51  46 136 176 189 178 187 195 201 205 208 210 215 223 223 224 220 214\n",
      "  214 213 211 208 202 196 184 194 195 176]\n",
      " [ 52  38 134 175 195 194 201 206 210 213 216 216 220 226 227 227 224 220\n",
      "  220 219 217 216 214 209 203 207 198 176]\n",
      " [ 54  17 114 173 200 207 211 214 217 219 221 222 224 227 227 227 227 224\n",
      "  224 224 223 222 220 218 214 216 202 178]\n",
      " [ 54  10  93 168 200 214 218 220 222 224 226 226 225 229 230 229 227 225\n",
      "  225 227 226 223 222 222 221 220 206 177]\n",
      " [ 55   5  58 149 193 213 220 223 225 227 227 227 226 229 231 231 230 226\n",
      "  227 229 227 226 223 224 224 221 206 167]\n",
      " [ 57   4  32 114 174 208 218 224 227 228 228 229 228 231 232 231 232 228\n",
      "  229 229 230 228 227 226 224 221 204 146]\n",
      " [ 64   7  48 128 177 209 222 229 232 234 234 235 234 236 237 238 238 236\n",
      "  236 237 236 235 235 235 231 230 215 161]]\n",
      "train_dataset.imgs[0] type: <class 'numpy.ndarray'>\n",
      "train_dataset.imgs[0].shape: (28, 28)\n",
      "train_dataset.labels[0]: [0 0 0 0 0 0 0 0 0 0 0 0 0 0]\n"
     ]
    }
   ],
   "source": [
    "try:\n",
    "    from medmnist import ChestMNIST\n",
    "except:\n",
    "    print(\"MedMNIST library not found. Installing...\")\n",
    "    import os\n",
    "    os.system('pip install medmnist')\n",
    "    from medmnist import ChestMNIST\n",
    "\n",
    "train_dataset = ChestMNIST(split='train', download=True)\n",
    "test_dataset = ChestMNIST(split='test', download=True)\n",
    "val_dataset = ChestMNIST(split='val', download=True)\n",
    "\n",
    "print(f\"Train dataset size: {len(train_dataset)}\")\n",
    "print(f\"Test dataset size: {len(test_dataset)}\")\n",
    "print(f\"Validation dataset size: {len(val_dataset)}\")\n",
    "\n",
    "print(f\"type(train_dataset): {type(train_dataset)}\")\n",
    "\n",
    "print(f\"train_dataset.imgs[0]: {train_dataset.imgs[0]}\")\n",
    "print(f\"train_dataset.imgs[0] type: {type(train_dataset.imgs[0])}\")\n",
    "print(f\"train_dataset.imgs[0].shape: {train_dataset.imgs[0].shape}\")\n",
    "print(f\"train_dataset.labels[0]: {train_dataset.labels[0]}\")\n"
   ]
  },
  {
   "cell_type": "markdown",
   "metadata": {},
   "source": [
    "We can see that the images are 28x28 grayscale images. The labels are a list of 14 boolean values, one for each class. They are both stored as numpy arrays. The images are numpy arrays of integers ranging from 1 to 255. We will have to normalize the pixel values to be between 0 and 1. Let's take a look at the first image and label.\n",
    "\n",
    "\n"
   ]
  },
  {
   "cell_type": "code",
   "execution_count": 2,
   "metadata": {},
   "outputs": [
    {
     "data": {
      "image/png": "[encoded data removed]",
      "text/plain": [
       "<Figure size 640x480 with 1 Axes>"
      ]
     },
     "metadata": {},
     "output_type": "display_data"
    },
    {
     "name": "stdout",
     "output_type": "stream",
     "text": [
      "label_names: {'0': 'atelectasis', '1': 'cardiomegaly', '2': 'effusion', '3': 'infiltration', '4': 'mass', '5': 'nodule', '6': 'pneumonia', '7': 'pneumothorax', '8': 'consolidation', '9': 'edema', '10': 'emphysema', '11': 'fibrosis', '12': 'pleural', '13': 'hernia'}\n"
     ]
    }
   ],
   "source": [
    "import matplotlib.pyplot as plt\n",
    "from medmnist.info import INFO\n",
    "\n",
    "sample_image = train_dataset.imgs[0]\n",
    "\n",
    "plt.imshow(train_dataset.imgs[0], cmap='gray')\n",
    "plt.title(f\"Label: {train_dataset.labels[0]}\")\n",
    "plt.axis('off')\n",
    "plt.show()\n",
    "\n",
    "label_names = INFO['chestmnist']['label']\n",
    "\n",
    "print(f\"label_names: {label_names}\")"
   ]
  },
  {
   "cell_type": "markdown",
   "metadata": {},
   "source": [
    "Now we can see a single image and the label names for the 14 classes. The image is fairly blurry but that is expected. This dataset is built for educational purposes and resolutions are kept intentionally low for ease of use. The selected first image has 0's for all of the labels, this indicates that none of the conditions are present in the image.\n",
    "\n",
    "---\n",
    "\n",
    "The following step is not usually recommended or required. In order to provide a better example of using tensorflow datasets, we will store the images to disk and then handle them with a tensorflow dataset."
   ]
  },
  {
   "cell_type": "code",
   "execution_count": 3,
   "metadata": {},
   "outputs": [
    {
     "name": "stdout",
     "output_type": "stream",
     "text": [
      "Processing train dataset...\n"
     ]
    },
    {
     "name": "stderr",
     "output_type": "stream",
     "text": [
      "100%|██████████| 78468/78468 [00:48<00:00, 1634.69it/s]\n"
     ]
    },
    {
     "name": "stdout",
     "output_type": "stream",
     "text": [
      "Processing val dataset...\n"
     ]
    },
    {
     "name": "stderr",
     "output_type": "stream",
     "text": [
      "100%|██████████| 11219/11219 [00:01<00:00, 10347.08it/s]\n"
     ]
    },
    {
     "name": "stdout",
     "output_type": "stream",
     "text": [
      "Processing test dataset...\n"
     ]
    },
    {
     "name": "stderr",
     "output_type": "stream",
     "text": [
      "100%|██████████| 22433/22433 [00:03<00:00, 6560.53it/s]\n"
     ]
    }
   ],
   "source": [
    "import os\n",
    "from pathlib import Path\n",
    "import pandas as pd\n",
    "from tqdm import tqdm\n",
    "\n",
    "DATASET_DIR = Path(\"../Data/MedMNIST/ChestMNIST\")\n",
    "\n",
    "\n",
    "for split in ['train', 'val', 'test']:\n",
    "    print(f\"Processing {split} dataset...\")\n",
    "\n",
    "    labels = []\n",
    "    \n",
    "    split_dir = DATASET_DIR / split\n",
    "    split_dir.mkdir(parents=True, exist_ok=True)\n",
    "\n",
    "    existing_files = set(os.listdir(split_dir))\n",
    "    existing_ids = [int(f.split('.')[0]) for f in existing_files]\n",
    "\n",
    "    for i, (image, label) in tqdm(enumerate(ChestMNIST(split=split)), total=len(ChestMNIST(split=split))):\n",
    "        id = i\n",
    "        image_path = Path(split_dir / f\"{id}.png\")\n",
    "        if not id in existing_ids:\n",
    "            plt.imsave(image_path, image, cmap='gray')\n",
    "        id_label = [id] + label.tolist()\n",
    "        labels.append(id_label)\n",
    "    \n",
    "\n",
    "    #create the labels dataframe    \n",
    "    columns = [\"id\"]\n",
    "    for label in range(len(label_names)):\n",
    "        label_name = label_names[str(label)]\n",
    "        columns.append(label_name)\n",
    "\n",
    "    labels_df = pd.DataFrame(labels, columns=columns)\n",
    "\n",
    "    # save labels to csv\n",
    "    label_csv_path = DATASET_DIR / f\"{split}.csv\"\n",
    "    labels_df.to_csv(label_csv_path, index=False)\n"
   ]
  },
  {
   "cell_type": "markdown",
   "metadata": {},
   "source": [
    "## 2. Dataset Definition\n",
    "\n",
    "In comparison to other datasets, image data can be a bit more complex to work with. Images pose a couple of unique challenges:\n",
    "\n",
    "1. Images are large in size, you usually can't load a full image dataset into memory at once.\n",
    "2. As a result of the large size, it is common to use data generators to load images into memory. This allows us to wait to load the image into memory until it is being loaded into a batch for training. That way we never have more images in memory than our batch size. We can also use the loading process to handle data augmentation (scaling, rotation, etc.).\n",
    "\n",
    "Tensorflow offers helpful classes for loading image data. One of the most useful is [image_dataset_from_directory](https://www.tensorflow.org/api_docs/python/tf/keras/preprocessing/image_dataset_from_directory), however, by default it is built to support binary or multi-class classification. We have to adapt a couple parameters to support our multi-label classification task.\n",
    "\n"
   ]
  },
  {
   "cell_type": "code",
   "execution_count": null,
   "metadata": {},
   "outputs": [
    {
     "name": "stdout",
     "output_type": "stream",
     "text": [
      "(78468, 14)\n",
      "Building dataset for train...\n"
     ]
    }
   ],
   "source": [
    "import numpy as np\n",
    "import tensorflow as tf\n",
    "from tensorflow.keras.preprocessing import image_dataset_from_directory\n",
    "\n",
    "BATCH_SIZE = 32\n",
    "IMAGE_SIZE = (28, 28)\n",
    "\n",
    "datasets = {}\n",
    "labels = {}\n",
    "\n",
    "for split in ['train', 'test', 'val']:\n",
    "    #get the labels\n",
    "    label_csv_path = DATASET_DIR / f\"{split}.csv\"\n",
    "    labels_df = pd.read_csv(label_csv_path)\n",
    "    labels[split] = labels_df\n",
    "    # Convert labels to numpy array, dropping the 'id' column\n",
    "    labels_array = labels_df.drop(columns=['id']).to_numpy(dtype=np.float32)\n",
    "    print(labels_array.shape)\n",
    "    labels_dataset = tf.data.Dataset.from_tensor_slices(labels_array) #Usually datasets can be created directly, however this extra step is necessary for multi-label classification\n",
    "\n",
    "    #build the dataset\n",
    "    image_dir  = DATASET_DIR / split\n",
    "    \n",
    "    print(f\"Building dataset for {split}...\")\n",
    "    images_dataset = image_dataset_from_directory(\n",
    "        image_dir,\n",
    "        batch_size=None,\n",
    "        image_size=IMAGE_SIZE,\n",
    "        label_mode='categorical', #multi-label classification\n",
    "        class_names=label_names, #not necessary but helpful for evaluation\n",
    "        labels=None #multi-label classification we will have to supply the labels separately\n",
    "    )\n",
    "\n",
    "    #zip the images and labels together\n",
    "    dataset = tf.data.Dataset.zip((images_dataset, labels_dataset))\n",
    "    dataset = dataset.batch(BATCH_SIZE)\n",
    "    datasets[split] = dataset"
   ]
  },
  {
   "cell_type": "markdown",
   "metadata": {},
   "source": [
    "Now lets test that the dataset is working as expected. We will print out the first 9 images and their labels."
   ]
  },
  {
   "cell_type": "code",
   "execution_count": null,
   "metadata": {},
   "outputs": [
    {
     "data": {
      "image/png": "[encoded data removed]",
      "text/plain": [
       "<Figure size 1000x1000 with 9 Axes>"
      ]
     },
     "metadata": {},
     "output_type": "display_data"
    }
   ],
   "source": [
    "import matplotlib.pyplot as plt\n",
    "\n",
    "def labels_to_string(labels, label_names):\n",
    "  labels_string = \"\"\n",
    "  for j in range(len(label_names)):\n",
    "    if labels[j] == 1: #if the label is 1, print the label name\n",
    "      labels_string += label_names[str(j)] + \", \"\n",
    "  return labels_string  \n",
    "\n",
    "plt.figure(figsize=(10, 10))\n",
    "\n",
    "for images, labels in datasets['val'].take(1):\n",
    "  for i in range(9):\n",
    "    ax = plt.subplot(3, 3, i + 1)\n",
    "    #reverse scaling\n",
    "    image = images[i].numpy() * 255.0\n",
    "    image = image.astype(np.uint8)\n",
    "    plt.imshow(image)\n",
    "    #print the label names\n",
    "    labels_string = labels_to_string(labels[i].numpy(), label_names)\n",
    "    plt.title(labels_string)\n",
    "    plt.axis(\"off\")"
   ]
  },
  {
   "cell_type": "markdown",
   "metadata": {},
   "source": [
    "### 2.1. Data Transformations\n",
    "\n",
    "Often times we will want to transform the image before passing it into the model. Here are three reasons why you may need image transformation.\n",
    "\n",
    "1. **Normalization** - Normalize the pixel values to be between 0 and 1.\n",
    "2. **Resizing** - Resize the image to a different size.\n",
    "3. **Augmentation** - Rotate, scale, flip, crop, etc. to artificially increase the size of the dataset. Augmentation also can improve the model's ability to generalize. This should only be done on the training data, the validation and test data should not be augmented.\n",
    "\n",
    "In tensorflow, we can apply transformations to the images through the map function.\n",
    "\n",
    "\n"
   ]
  },
  {
   "cell_type": "code",
   "execution_count": 32,
   "metadata": {},
   "outputs": [],
   "source": [
    "import tensorflow as tf\n",
    "\n",
    "def transform_train_image(image, label):\n",
    "    #convert to grayscale\n",
    "    image = tf.image.rgb_to_grayscale(image)\n",
    "    #resize the image\n",
    "    image = tf.image.resize(image, IMAGE_SIZE)\n",
    "    #normalize the image\n",
    "    image = tf.cast(image, tf.float32) / 255.0\n",
    "\n",
    "    #augment the image\n",
    "    image = tf.image.random_flip_left_right(image)\n",
    "\n",
    "    return image, label\n",
    "\n",
    "def transform_eval_image(image, label):\n",
    "    #convert to grayscale\n",
    "    image = tf.image.rgb_to_grayscale(image)\n",
    "    #resize the image\n",
    "    image = tf.image.resize(image, IMAGE_SIZE)\n",
    "    #normalize the image\n",
    "    image = tf.cast(image, tf.float32) / 255.0\n",
    "\n",
    "    return image, label\n",
    "\n",
    "for split, dataset in datasets.items():\n",
    "    if split == 'train':\n",
    "        datasets[split] = dataset.map(lambda x, y: transform_train_image(x, y))\n",
    "    else:\n",
    "        datasets[split] = dataset.map(lambda x, y: transform_eval_image(x, y))\n"
   ]
  },
  {
   "cell_type": "markdown",
   "metadata": {},
   "source": [
    "Finally, we can add a cache and prefetch to the dataset to improve performance.\n"
   ]
  },
  {
   "cell_type": "code",
   "execution_count": 33,
   "metadata": {},
   "outputs": [],
   "source": [
    "AUTOTUNE = tf.data.AUTOTUNE\n",
    "\n",
    "for split, dataset in datasets.items():\n",
    "    if split == 'train':\n",
    "        datasets[split] = dataset.cache().shuffle(1000).prefetch(buffer_size=AUTOTUNE)\n",
    "    else:\n",
    "        datasets[split] = dataset.cache().prefetch(buffer_size=AUTOTUNE)\n"
   ]
  },
  {
   "cell_type": "markdown",
   "metadata": {},
   "source": [
    "## 3. Model Architecture\n",
    "\n",
    "First we will build a basic CNN model containing a single convolutional layer and a dense output layer.\n"
   ]
  },
  {
   "cell_type": "code",
   "execution_count": null,
   "metadata": {},
   "outputs": [
    {
     "name": "stdout",
     "output_type": "stream",
     "text": [
      "Model: \"sequential_1\"\n",
      "_________________________________________________________________\n",
      " Layer (type)                Output Shape              Param #   \n",
      "=================================================================\n",
      " conv2d_1 (Conv2D)           (None, 26, 26, 32)        320       \n",
      "                                                                 \n",
      " max_pooling2d_1 (MaxPooling  (None, 13, 13, 32)       0         \n",
      " 2D)                                                             \n",
      "                                                                 \n",
      " flatten_1 (Flatten)         (None, 5408)              0         \n",
      "                                                                 \n",
      " dense_1 (Dense)             (None, 14)                75726     \n",
      "                                                                 \n",
      "=================================================================\n",
      "Total params: 76,046\n",
      "Trainable params: 76,046\n",
      "Non-trainable params: 0\n",
      "_________________________________________________________________\n"
     ]
    }
   ],
   "source": [
    "from tensorflow.keras.models import Sequential\n",
    "from tensorflow.keras.layers import Conv2D, MaxPooling2D, Flatten, Dense\n",
    "\n",
    "#set hyperparameters\n",
    "NUM_FILTERS = 32\n",
    "KERNEL_SIZE = (3, 3)\n",
    "CONV_ACTIVATION = 'relu'\n",
    "POOL_SIZE = (2, 2)\n",
    "DENSE_ACTIVATION = 'sigmoid' #multi-label classification, this is not the best choice for multi-class or binary classification\n",
    "\n",
    "#build the model\n",
    "model = Sequential([\n",
    "    Conv2D(NUM_FILTERS, KERNEL_SIZE, activation=CONV_ACTIVATION, input_shape=(IMAGE_SIZE[0], IMAGE_SIZE[1], 1)), # 1 channel for grayscale\n",
    "    MaxPooling2D(POOL_SIZE),\n",
    "    Flatten(),  \n",
    "    Dense(len(label_names), activation=DENSE_ACTIVATION)\n",
    "])\n",
    "\n",
    "model.summary()\n",
    "\n"
   ]
  },
  {
   "cell_type": "markdown",
   "metadata": {},
   "source": [
    "## 4. Model Training\n",
    "Now we will fit the model to the training data. We will use early stopping based on feedback from the validation set. This is a simple way to prevent overfitting."
   ]
  },
  {
   "cell_type": "code",
   "execution_count": null,
   "metadata": {},
   "outputs": [
    {
     "name": "stdout",
     "output_type": "stream",
     "text": [
      "Epoch 1/1000\n"
     ]
    }
   ],
   "source": [
    "from tensorflow.keras.callbacks import EarlyStopping\n",
    "\n",
    "# Check for GPU availability\n",
    "print(\"Num GPUs Available: \", len(tf.config.list_physical_devices('GPU')))\n",
    "print(\"\\nGPU Devices:\")\n",
    "for gpu in tf.config.list_physical_devices('GPU'):\n",
    "    print(gpu)\n",
    "\n",
    "\n",
    "EPOCHS = 1000 # Set high because we will use early stopping\n",
    "EARLY_STOPPING_PATIENCE = 10 # If no improvement seen in 10 epochs, stop training\n",
    "OPTIMIZER = 'adam'\n",
    "LOSS = 'binary_crossentropy' #multi-label classification\n",
    "METRICS = ['accuracy', 'AUC'] \n",
    "\n",
    "model.compile(optimizer=OPTIMIZER,\n",
    "              loss=LOSS,\n",
    "              metrics=METRICS)\n",
    "\n",
    "early_stopping = EarlyStopping(monitor='val_auc', patience=EARLY_STOPPING_PATIENCE, restore_best_weights=True)\n",
    "\n",
    "#history = model.fit(datasets['train'], validation_data=datasets['val'], epochs=EPOCHS, callbacks=[early_stopping])\n",
    "\n"
   ]
  }
 ],
 "metadata": {
  "kernelspec": {
   "display_name": "Python 3",
   "language": "python",
   "name": "python3"
  },
  "language_info": {
   "codemirror_mode": {
    "name": "ipython",
    "version": 3
   },
   "file_extension": ".py",
   "mimetype": "text/x-python",
   "name": "python",
   "nbconvert_exporter": "python",
   "pygments_lexer": "ipython3",
   "version": "3.9.18"
  }
 },
 "nbformat": 4,
 "nbformat_minor": 2
}
